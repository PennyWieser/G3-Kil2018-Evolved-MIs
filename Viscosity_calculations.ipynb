{
 "cells": [
  {
   "cell_type": "code",
   "execution_count": 1,
   "id": "e1e3a714-c006-4ae2-9559-23eef6226d92",
   "metadata": {},
   "outputs": [],
   "source": [
    "import numpy as np\n",
    "import pandas as pd\n",
    "import matplotlib.pyplot as plt\n",
    "import matplotlib as mpl\n",
    "from matplotlib import cm\n",
    "import warnings as w\n",
    "pd.options.display.max_columns = None"
   ]
  },
  {
   "cell_type": "code",
   "execution_count": 2,
   "id": "db81021b-97b8-4210-abe1-01018aba9f63",
   "metadata": {},
   "outputs": [],
   "source": [
    "## You need to install Thermobar -https://thermobar.readthedocs.io/en/latest/index.html "
   ]
  },
  {
   "cell_type": "code",
   "execution_count": 6,
   "id": "7b34b172-f723-487e-a3ee-c7a9f7ddc3e0",
   "metadata": {},
   "outputs": [],
   "source": [
    "# !pip install Thermobar"
   ]
  },
  {
   "cell_type": "code",
   "execution_count": 7,
   "id": "c24c17c3-96cd-45ae-b607-f2e189ed962b",
   "metadata": {},
   "outputs": [],
   "source": [
    "import Thermobar as pt"
   ]
  },
  {
   "cell_type": "code",
   "execution_count": 10,
   "id": "f6ef9538-7fd0-44b7-b54e-14b1a950d41f",
   "metadata": {},
   "outputs": [],
   "source": [
    "# Import liquids\n",
    "Liqs_import=pt.import_excel('Viscosity_Calcs.xlsx', sheet_name='Dacite_Ascent', suffix=\"_Liq\")\n",
    "Liqs=Liqs_import['Liqs']\n",
    "Liqs_input=Liqs_import['my_input']"
   ]
  },
  {
   "cell_type": "code",
   "execution_count": 11,
   "id": "55803ddd-3dcd-4a39-8129-fb31a813b9f8",
   "metadata": {},
   "outputs": [],
   "source": [
    "## Default, using H2O in input spreadsheet\n",
    "Dacite_n_MELTS=pt.calculate_viscosity_giordano_2008(liq_comps=Liqs, T=Liqs_input['T_MELTS_K'])\n",
    "## Default, using H2O in input spreadsheet\n",
    "Dacite_n_MELTS.to_clipboard(excel=True)"
   ]
  },
  {
   "cell_type": "code",
   "execution_count": 12,
   "id": "36ed97e9-eb7b-4d20-8c49-93b18bbb1df1",
   "metadata": {},
   "outputs": [],
   "source": [
    "## Default, using H2O in input spreadsheet\n",
    "Dacite_n_HT=pt.calculate_viscosity_giordano_2008(liq_comps=Liqs, T=Liqs_input['T_MELTS_HT'])\n",
    "Dacite_n_HT.to_clipboard(excel=True)"
   ]
  },
  {
   "cell_type": "code",
   "execution_count": 15,
   "id": "daa6e82e-adf4-40da-8174-721f985a1af8",
   "metadata": {},
   "outputs": [],
   "source": [
    "# Import liquids for BA\n",
    "Liqs_import2=pt.import_excel('Viscosity_Calcs.xlsx', sheet_name='BA_Ascent', suffix=\"_Liq\")\n",
    "Liqs2=Liqs_import2['Liqs']\n",
    "Liqs_input2=Liqs_import2['my_input']"
   ]
  },
  {
   "cell_type": "code",
   "execution_count": 16,
   "id": "97f0d676-3a17-4253-b0d2-1e93ac2601ee",
   "metadata": {},
   "outputs": [],
   "source": [
    "## Default, using H2O in input spreadsheet\n",
    "Dacite_n_MELTS2=pt.calculate_viscosity_giordano_2008(liq_comps=Liqs2, T=Liqs_input2['T_MELTS_K'])\n",
    "## Default, using H2O in input spreadsheet\n",
    "Dacite_n_MELTS2.to_clipboard(excel=True)"
   ]
  },
  {
   "cell_type": "code",
   "execution_count": 17,
   "id": "1336dbaf-a472-4344-9fd6-3860bf997854",
   "metadata": {},
   "outputs": [],
   "source": [
    "## Default, using H2O in input spreadsheet\n",
    "Dacite_n_HT2=pt.calculate_viscosity_giordano_2008(liq_comps=Liqs2, T=Liqs_input2['T_MELTS_HT'])\n",
    "Dacite_n_HT2.to_clipboard(excel=True)"
   ]
  },
  {
   "cell_type": "code",
   "execution_count": null,
   "id": "4f219f7c-6eb0-46bb-b563-a6e4570f2ee2",
   "metadata": {},
   "outputs": [],
   "source": []
  }
 ],
 "metadata": {
  "kernelspec": {
   "display_name": "Python 3",
   "language": "python",
   "name": "python3"
  },
  "language_info": {
   "codemirror_mode": {
    "name": "ipython",
    "version": 3
   },
   "file_extension": ".py",
   "mimetype": "text/x-python",
   "name": "python",
   "nbconvert_exporter": "python",
   "pygments_lexer": "ipython3",
   "version": "3.8.5"
  }
 },
 "nbformat": 4,
 "nbformat_minor": 5
}
